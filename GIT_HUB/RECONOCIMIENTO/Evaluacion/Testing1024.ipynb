{
 "cells": [
  {
   "cell_type": "markdown",
   "metadata": {},
   "source": [
    "# Testing the models (90-5-5)"
   ]
  },
  {
   "cell_type": "code",
   "execution_count": 2,
   "metadata": {},
   "outputs": [
    {
     "name": "stderr",
     "output_type": "stream",
     "text": [
      "/home/ign1/anaconda3/envs/pruebas/lib/python3.7/site-packages/tensorflow/python/framework/dtypes.py:516: FutureWarning: Passing (type, 1) or '1type' as a synonym of type is deprecated; in a future version of numpy, it will be understood as (type, (1,)) / '(1,)type'.\n",
      "  _np_qint8 = np.dtype([(\"qint8\", np.int8, 1)])\n",
      "/home/ign1/anaconda3/envs/pruebas/lib/python3.7/site-packages/tensorflow/python/framework/dtypes.py:517: FutureWarning: Passing (type, 1) or '1type' as a synonym of type is deprecated; in a future version of numpy, it will be understood as (type, (1,)) / '(1,)type'.\n",
      "  _np_quint8 = np.dtype([(\"quint8\", np.uint8, 1)])\n",
      "/home/ign1/anaconda3/envs/pruebas/lib/python3.7/site-packages/tensorflow/python/framework/dtypes.py:518: FutureWarning: Passing (type, 1) or '1type' as a synonym of type is deprecated; in a future version of numpy, it will be understood as (type, (1,)) / '(1,)type'.\n",
      "  _np_qint16 = np.dtype([(\"qint16\", np.int16, 1)])\n",
      "/home/ign1/anaconda3/envs/pruebas/lib/python3.7/site-packages/tensorflow/python/framework/dtypes.py:519: FutureWarning: Passing (type, 1) or '1type' as a synonym of type is deprecated; in a future version of numpy, it will be understood as (type, (1,)) / '(1,)type'.\n",
      "  _np_quint16 = np.dtype([(\"quint16\", np.uint16, 1)])\n",
      "/home/ign1/anaconda3/envs/pruebas/lib/python3.7/site-packages/tensorflow/python/framework/dtypes.py:520: FutureWarning: Passing (type, 1) or '1type' as a synonym of type is deprecated; in a future version of numpy, it will be understood as (type, (1,)) / '(1,)type'.\n",
      "  _np_qint32 = np.dtype([(\"qint32\", np.int32, 1)])\n",
      "/home/ign1/anaconda3/envs/pruebas/lib/python3.7/site-packages/tensorflow/python/framework/dtypes.py:525: FutureWarning: Passing (type, 1) or '1type' as a synonym of type is deprecated; in a future version of numpy, it will be understood as (type, (1,)) / '(1,)type'.\n",
      "  np_resource = np.dtype([(\"resource\", np.ubyte, 1)])\n",
      "/home/ign1/anaconda3/envs/pruebas/lib/python3.7/site-packages/tensorboard/compat/tensorflow_stub/dtypes.py:541: FutureWarning: Passing (type, 1) or '1type' as a synonym of type is deprecated; in a future version of numpy, it will be understood as (type, (1,)) / '(1,)type'.\n",
      "  _np_qint8 = np.dtype([(\"qint8\", np.int8, 1)])\n",
      "/home/ign1/anaconda3/envs/pruebas/lib/python3.7/site-packages/tensorboard/compat/tensorflow_stub/dtypes.py:542: FutureWarning: Passing (type, 1) or '1type' as a synonym of type is deprecated; in a future version of numpy, it will be understood as (type, (1,)) / '(1,)type'.\n",
      "  _np_quint8 = np.dtype([(\"quint8\", np.uint8, 1)])\n",
      "/home/ign1/anaconda3/envs/pruebas/lib/python3.7/site-packages/tensorboard/compat/tensorflow_stub/dtypes.py:543: FutureWarning: Passing (type, 1) or '1type' as a synonym of type is deprecated; in a future version of numpy, it will be understood as (type, (1,)) / '(1,)type'.\n",
      "  _np_qint16 = np.dtype([(\"qint16\", np.int16, 1)])\n",
      "/home/ign1/anaconda3/envs/pruebas/lib/python3.7/site-packages/tensorboard/compat/tensorflow_stub/dtypes.py:544: FutureWarning: Passing (type, 1) or '1type' as a synonym of type is deprecated; in a future version of numpy, it will be understood as (type, (1,)) / '(1,)type'.\n",
      "  _np_quint16 = np.dtype([(\"quint16\", np.uint16, 1)])\n",
      "/home/ign1/anaconda3/envs/pruebas/lib/python3.7/site-packages/tensorboard/compat/tensorflow_stub/dtypes.py:545: FutureWarning: Passing (type, 1) or '1type' as a synonym of type is deprecated; in a future version of numpy, it will be understood as (type, (1,)) / '(1,)type'.\n",
      "  _np_qint32 = np.dtype([(\"qint32\", np.int32, 1)])\n",
      "/home/ign1/anaconda3/envs/pruebas/lib/python3.7/site-packages/tensorboard/compat/tensorflow_stub/dtypes.py:550: FutureWarning: Passing (type, 1) or '1type' as a synonym of type is deprecated; in a future version of numpy, it will be understood as (type, (1,)) / '(1,)type'.\n",
      "  np_resource = np.dtype([(\"resource\", np.ubyte, 1)])\n",
      "Using TensorFlow backend.\n"
     ]
    },
    {
     "name": "stdout",
     "output_type": "stream",
     "text": [
      "Found 6556 images belonging to 2 classes.\n"
     ]
    }
   ],
   "source": [
    "import tensorflow as tf \n",
    "config = tf.ConfigProto()\n",
    "config.gpu_options.allow_growth = True\n",
    "sess = tf.Session(config=config)\n",
    "import os, shutil\n",
    "from keras.preprocessing.image import ImageDataGenerator\n",
    "import numpy as np\n",
    "\n",
    "base_dir = r'tiles'\n",
    "test_dir = os.path.join(base_dir, 'test')\n",
    "\n",
    "test_datagen = ImageDataGenerator(rescale=1./255)\n",
    "test_generator = test_datagen.flow_from_directory( test_dir, target_size=(1024, 1024), \n",
    "                                                  batch_size=9, class_mode='binary', shuffle=False)\n",
    "\n",
    "from keras.models import load_model\n",
    "\n",
    "import warnings\n",
    "warnings.filterwarnings(action=\"ignore\")\n",
    "\n",
    "\n",
    "import matplotlib.pyplot as plt\n",
    "import numpy as np\n",
    "from keras.models import load_model\n",
    "\n",
    "import numpy as np \n",
    "from sklearn.metrics import classification_report, confusion_matrix\n",
    "import itertools\n",
    "from collections import Counter\n",
    "from math import pow\n",
    "\n",
    "def plot_confusion_matrix(cm, classes,\n",
    "                          normalize=False,\n",
    "                          title='Confusion matrix',\n",
    "                          cmap=plt.cm.Blues):\n",
    "    \"\"\"\n",
    "    This function prints and plots the confusion matrix.\n",
    "    Normalization can be applied by setting `normalize=True`.\n",
    "    \"\"\"\n",
    "\n",
    "    plt.imshow(cm, interpolation='nearest', cmap=cmap)\n",
    "    plt.title(title)\n",
    "    plt.colorbar()\n",
    "    tick_marks = np.arange(len(classes))\n",
    "    plt.xticks(tick_marks, classes, rotation=45)\n",
    "    plt.yticks(tick_marks, classes)\n",
    "\n",
    "    if normalize:\n",
    "        cm = cm.astype('float') / cm.sum(axis=1)[:, np.newaxis]\n",
    "\n",
    "    thresh = cm.max() / 2.\n",
    "    for i, j in itertools.product(range(cm.shape[0]), range(cm.shape[1])):\n",
    "        plt.text(j, i, cm[i, j],\n",
    "                 horizontalalignment=\"center\",\n",
    "                 color=\"white\" if cm[i, j] > thresh else \"black\")\n",
    "\n",
    "    plt.tight_layout()\n",
    "    plt.ylabel('Actual class')\n",
    "    plt.xlabel('Predicted class')\n",
    "    "
   ]
  },
  {
   "cell_type": "markdown",
   "metadata": {},
   "source": [
    "# VGG-3"
   ]
  },
  {
   "cell_type": "markdown",
   "metadata": {},
   "source": [
    "## 1"
   ]
  },
  {
   "cell_type": "code",
   "execution_count": 2,
   "metadata": {},
   "outputs": [
    {
     "name": "stdout",
     "output_type": "stream",
     "text": [
      "WARNING:tensorflow:From /home/ign1/anaconda3/envs/pruebas/lib/python3.7/site-packages/keras/backend/tensorflow_backend.py:517: The name tf.placeholder is deprecated. Please use tf.compat.v1.placeholder instead.\n",
      "\n",
      "WARNING:tensorflow:From /home/ign1/anaconda3/envs/pruebas/lib/python3.7/site-packages/keras/backend/tensorflow_backend.py:4138: The name tf.random_uniform is deprecated. Please use tf.random.uniform instead.\n",
      "\n",
      "WARNING:tensorflow:From /home/ign1/anaconda3/envs/pruebas/lib/python3.7/site-packages/keras/backend/tensorflow_backend.py:3976: The name tf.nn.max_pool is deprecated. Please use tf.nn.max_pool2d instead.\n",
      "\n",
      "WARNING:tensorflow:From /home/ign1/anaconda3/envs/pruebas/lib/python3.7/site-packages/keras/backend/tensorflow_backend.py:4185: The name tf.truncated_normal is deprecated. Please use tf.random.truncated_normal instead.\n",
      "\n",
      "WARNING:tensorflow:From /home/ign1/anaconda3/envs/pruebas/lib/python3.7/site-packages/keras/backend/tensorflow_backend.py:131: The name tf.get_default_graph is deprecated. Please use tf.compat.v1.get_default_graph instead.\n",
      "\n",
      "WARNING:tensorflow:From /home/ign1/anaconda3/envs/pruebas/lib/python3.7/site-packages/keras/backend/tensorflow_backend.py:133: The name tf.placeholder_with_default is deprecated. Please use tf.compat.v1.placeholder_with_default instead.\n",
      "\n",
      "WARNING:tensorflow:From /home/ign1/anaconda3/envs/pruebas/lib/python3.7/site-packages/keras/backend/tensorflow_backend.py:3445: calling dropout (from tensorflow.python.ops.nn_ops) with keep_prob is deprecated and will be removed in a future version.\n",
      "Instructions for updating:\n",
      "Please use `rate` instead of `keep_prob`. Rate should be set to `rate = 1 - keep_prob`.\n",
      "WARNING:tensorflow:From /home/ign1/anaconda3/envs/pruebas/lib/python3.7/site-packages/keras/optimizers.py:790: The name tf.train.Optimizer is deprecated. Please use tf.compat.v1.train.Optimizer instead.\n",
      "\n",
      "WARNING:tensorflow:From /home/ign1/anaconda3/envs/pruebas/lib/python3.7/site-packages/tensorflow/python/ops/nn_impl.py:180: add_dispatch_support.<locals>.wrapper (from tensorflow.python.ops.array_ops) is deprecated and will be removed in a future version.\n",
      "Instructions for updating:\n",
      "Use tf.where in 2.0, which has the same broadcast rule as np.where\n",
      "Test score:  0.22552289152915317\n",
      "Test accuracy:  0.9071079905237491\n"
     ]
    }
   ],
   "source": [
    "model = load_model('Models1/VGG3-1.h5')\n",
    "test_steps_per_epoch = np.math.ceil(test_generator.samples / test_generator.batch_size)\n",
    "test_loss, test_acc = model.evaluate_generator(test_generator, test_steps_per_epoch)\n",
    "print('Test score: ', test_loss)    #Loss on test\n",
    "print('Test accuracy: ', test_acc)"
   ]
  },
  {
   "cell_type": "code",
   "execution_count": 3,
   "metadata": {},
   "outputs": [
    {
     "name": "stdout",
     "output_type": "stream",
     "text": [
      "['1-caminos', '2-noexiste']\n",
      "[[4457  305]\n",
      " [ 304 1490]]\n",
      "              precision    recall  f1-score   support\n",
      "\n",
      "        Road     0.9361    0.9360    0.9360      4762\n",
      "     No Road     0.8301    0.8305    0.8303      1794\n",
      "\n",
      "    accuracy                         0.9071      6556\n",
      "   macro avg     0.8831    0.8832    0.8832      6556\n",
      "weighted avg     0.9071    0.9071    0.9071      6556\n",
      "\n"
     ]
    }
   ],
   "source": [
    "from sklearn.metrics import f1_score, precision_score, recall_score, confusion_matrix, classification_report\n",
    "model.evaluate_generator(generator=test_generator, steps=test_steps_per_epoch)\n",
    "test_generator.reset()\n",
    "\n",
    "predictions = model.predict_generator(test_generator, steps=test_steps_per_epoch, verbose=0,use_multiprocessing=False,workers = 0)   #pickle_safe = True, workers = 1 \n",
    "y_pred = np.rint(predictions)\n",
    "Y_pred = predictions    \n",
    "\n",
    "Y_pred_classes = y_pred\n",
    "Y_true = test_generator.classes \n",
    "\n",
    "true_classes = test_generator.classes\n",
    "class_labels = list(test_generator.class_indices.keys())   \n",
    "print(class_labels)\n",
    "\n",
    "target_names = ['Road', 'No Road']\n",
    "\n",
    "print(confusion_matrix(test_generator.classes, y_pred))\n",
    "report = classification_report(test_generator.classes, y_pred,target_names=target_names, digits=4)\n",
    "print(report)"
   ]
  },
  {
   "cell_type": "code",
   "execution_count": 4,
   "metadata": {},
   "outputs": [
    {
     "data": {
      "image/png": "[encoded data removed]",
      "text/plain": [
       "<Figure size 468x324 with 2 Axes>"
      ]
     },
     "metadata": {
      "needs_background": "light"
     },
     "output_type": "display_data"
    }
   ],
   "source": [
    "confusion_mtx= confusion_matrix(Y_pred_classes, Y_true)\n",
    "plt.figure(figsize = (6.5,4.5))\n",
    "plot_confusion_matrix(confusion_mtx, classes = ['Road', 'No Road'], cmap='Blues')"
   ]
  },
  {
   "cell_type": "code",
   "execution_count": 5,
   "metadata": {},
   "outputs": [
    {
     "data": {
      "text/plain": [
       "0.9637803481388567"
      ]
     },
     "execution_count": 5,
     "metadata": {},
     "output_type": "execute_result"
    }
   ],
   "source": [
    "from sklearn.metrics import roc_auc_score\n",
    "roc_auc_score = roc_auc_score(test_generator.classes, predictions)\n",
    "roc_auc_score"
   ]
  },
  {
   "cell_type": "markdown",
   "metadata": {},
   "source": [
    "## 2"
   ]
  },
  {
   "cell_type": "code",
   "execution_count": 6,
   "metadata": {},
   "outputs": [
    {
     "name": "stdout",
     "output_type": "stream",
     "text": [
      "Test score:  0.2323412208255018\n",
      "Test accuracy:  0.9064978646106513\n"
     ]
    }
   ],
   "source": [
    "model = load_model('Models1/VGG3-2.h5')\n",
    "test_steps_per_epoch = np.math.ceil(test_generator.samples / test_generator.batch_size)\n",
    "test_loss, test_acc = model.evaluate_generator(test_generator, test_steps_per_epoch)\n",
    "print('Test score: ', test_loss)    #Loss on test\n",
    "print('Test accuracy: ', test_acc)"
   ]
  },
  {
   "cell_type": "code",
   "execution_count": 7,
   "metadata": {},
   "outputs": [
    {
     "name": "stdout",
     "output_type": "stream",
     "text": [
      "['1-caminos', '2-noexiste']\n",
      "[[4556  206]\n",
      " [ 407 1387]]\n",
      "              precision    recall  f1-score   support\n",
      "\n",
      "        Road     0.9180    0.9567    0.9370      4762\n",
      "     No Road     0.8707    0.7731    0.8190      1794\n",
      "\n",
      "    accuracy                         0.9065      6556\n",
      "   macro avg     0.8943    0.8649    0.8780      6556\n",
      "weighted avg     0.9050    0.9065    0.9047      6556\n",
      "\n"
     ]
    }
   ],
   "source": [
    "from sklearn.metrics import f1_score, precision_score, recall_score, confusion_matrix, classification_report\n",
    "model.evaluate_generator(generator=test_generator, steps=test_steps_per_epoch)\n",
    "test_generator.reset()\n",
    "\n",
    "predictions = model.predict_generator(test_generator, steps=test_steps_per_epoch, verbose=0,use_multiprocessing=False,workers = 0)   #pickle_safe = True, workers = 1 \n",
    "y_pred = np.rint(predictions)\n",
    "Y_pred = predictions    \n",
    "\n",
    "Y_pred_classes = y_pred\n",
    "Y_true = test_generator.classes \n",
    "\n",
    "true_classes = test_generator.classes\n",
    "class_labels = list(test_generator.class_indices.keys())   \n",
    "print(class_labels)\n",
    "\n",
    "target_names = ['Road', 'No Road']\n",
    "\n",
    "print(confusion_matrix(test_generator.classes, y_pred))\n",
    "report = classification_report(test_generator.classes, y_pred,target_names=target_names, digits=4)\n",
    "print(report)"
   ]
  },
  {
   "cell_type": "code",
   "execution_count": 8,
   "metadata": {},
   "outputs": [
    {
     "data": {
      "image/png": "[encoded data removed]",
      "text/plain": [
       "<Figure size 468x324 with 2 Axes>"
      ]
     },
     "metadata": {
      "needs_background": "light"
     },
     "output_type": "display_data"
    }
   ],
   "source": [
    "confusion_mtx= confusion_matrix(Y_pred_classes, Y_true)\n",
    "plt.figure(figsize = (6.5,4.5))\n",
    "plot_confusion_matrix(confusion_mtx, classes = ['Road', 'No Road'], cmap='Blues')"
   ]
  },
  {
   "cell_type": "code",
   "execution_count": 9,
   "metadata": {},
   "outputs": [
    {
     "data": {
      "text/plain": [
       "0.9650708741678009"
      ]
     },
     "execution_count": 9,
     "metadata": {},
     "output_type": "execute_result"
    }
   ],
   "source": [
    "from sklearn.metrics import roc_auc_score\n",
    "roc_auc_score = roc_auc_score(test_generator.classes, predictions)\n",
    "roc_auc_score"
   ]
  },
  {
   "cell_type": "markdown",
   "metadata": {},
   "source": [
    "##  3"
   ]
  },
  {
   "cell_type": "code",
   "execution_count": 10,
   "metadata": {},
   "outputs": [
    {
     "name": "stdout",
     "output_type": "stream",
     "text": [
      "Test score:  0.21817843101628298\n",
      "Test accuracy:  0.9092434415635792\n"
     ]
    }
   ],
   "source": [
    "model = load_model('Models1/VGG3-3.h5')\n",
    "test_steps_per_epoch = np.math.ceil(test_generator.samples / test_generator.batch_size)\n",
    "test_loss, test_acc = model.evaluate_generator(test_generator, test_steps_per_epoch)\n",
    "print('Test score: ', test_loss)    #Loss on test\n",
    "print('Test accuracy: ', test_acc)"
   ]
  },
  {
   "cell_type": "code",
   "execution_count": 11,
   "metadata": {},
   "outputs": [
    {
     "name": "stdout",
     "output_type": "stream",
     "text": [
      "['1-caminos', '2-noexiste']\n",
      "[[4490  272]\n",
      " [ 323 1471]]\n",
      "              precision    recall  f1-score   support\n",
      "\n",
      "        Road     0.9329    0.9429    0.9379      4762\n",
      "     No Road     0.8439    0.8200    0.8318      1794\n",
      "\n",
      "    accuracy                         0.9092      6556\n",
      "   macro avg     0.8884    0.8814    0.8848      6556\n",
      "weighted avg     0.9086    0.9092    0.9088      6556\n",
      "\n"
     ]
    }
   ],
   "source": [
    "from sklearn.metrics import f1_score, precision_score, recall_score, confusion_matrix, classification_report\n",
    "model.evaluate_generator(generator=test_generator, steps=test_steps_per_epoch)\n",
    "test_generator.reset()\n",
    "\n",
    "predictions = model.predict_generator(test_generator, steps=test_steps_per_epoch, verbose=0,use_multiprocessing=False,workers = 0)   #pickle_safe = True, workers = 1 \n",
    "y_pred = np.rint(predictions)\n",
    "Y_pred = predictions    \n",
    "\n",
    "Y_pred_classes = y_pred\n",
    "Y_true = test_generator.classes \n",
    "\n",
    "true_classes = test_generator.classes\n",
    "class_labels = list(test_generator.class_indices.keys())   \n",
    "print(class_labels)\n",
    "\n",
    "target_names = ['Road', 'No Road']\n",
    "\n",
    "print(confusion_matrix(test_generator.classes, y_pred))\n",
    "report = classification_report(test_generator.classes, y_pred,target_names=target_names, digits=4)\n",
    "print(report)"
   ]
  },
  {
   "cell_type": "code",
   "execution_count": 12,
   "metadata": {},
   "outputs": [
    {
     "data": {
      "image/png": "[encoded data removed]",
      "text/plain": [
       "<Figure size 468x324 with 2 Axes>"
      ]
     },
     "metadata": {
      "needs_background": "light"
     },
     "output_type": "display_data"
    }
   ],
   "source": [
    "confusion_mtx= confusion_matrix(Y_pred_classes, Y_true)\n",
    "plt.figure(figsize = (6.5,4.5))\n",
    "plot_confusion_matrix(confusion_mtx, classes = ['Road', 'No Road'], cmap='Blues')"
   ]
  },
  {
   "cell_type": "code",
   "execution_count": 13,
   "metadata": {},
   "outputs": [
    {
     "data": {
      "text/plain": [
       "0.9667576297303484"
      ]
     },
     "execution_count": 13,
     "metadata": {},
     "output_type": "execute_result"
    }
   ],
   "source": [
    "from sklearn.metrics import roc_auc_score\n",
    "roc_auc_score = roc_auc_score(test_generator.classes, predictions)\n",
    "roc_auc_score"
   ]
  },
  {
   "cell_type": "markdown",
   "metadata": {},
   "source": [
    "# VGG-5"
   ]
  },
  {
   "cell_type": "markdown",
   "metadata": {},
   "source": [
    "## 1"
   ]
  },
  {
   "cell_type": "code",
   "execution_count": 14,
   "metadata": {},
   "outputs": [
    {
     "name": "stdout",
     "output_type": "stream",
     "text": [
      "Test score:  0.23451139186420478\n",
      "Test accuracy:  0.9066503943649278\n"
     ]
    }
   ],
   "source": [
    "model = load_model('Models1/VGG5-1.h5')\n",
    "test_steps_per_epoch = np.math.ceil(test_generator.samples / test_generator.batch_size)\n",
    "test_loss, test_acc = model.evaluate_generator(test_generator, test_steps_per_epoch)\n",
    "print('Test score: ', test_loss)    #Loss on test\n",
    "print('Test accuracy: ', test_acc) "
   ]
  },
  {
   "cell_type": "code",
   "execution_count": 15,
   "metadata": {},
   "outputs": [
    {
     "name": "stdout",
     "output_type": "stream",
     "text": [
      "['1-caminos', '2-noexiste']\n",
      "[[4497  265]\n",
      " [ 347 1447]]\n",
      "              precision    recall  f1-score   support\n",
      "\n",
      "        Road     0.9284    0.9444    0.9363      4762\n",
      "     No Road     0.8452    0.8066    0.8254      1794\n",
      "\n",
      "    accuracy                         0.9067      6556\n",
      "   macro avg     0.8868    0.8755    0.8809      6556\n",
      "weighted avg     0.9056    0.9067    0.9060      6556\n",
      "\n"
     ]
    }
   ],
   "source": [
    "from sklearn.metrics import f1_score, precision_score, recall_score, confusion_matrix, classification_report\n",
    "model.evaluate_generator(generator=test_generator, steps=test_steps_per_epoch)\n",
    "test_generator.reset()\n",
    "\n",
    "predictions = model.predict_generator(test_generator, steps=test_steps_per_epoch, verbose=0,use_multiprocessing=False,workers = 0)   #pickle_safe = True, workers = 1 \n",
    "y_pred = np.rint(predictions)\n",
    "Y_pred = predictions    \n",
    "\n",
    "Y_pred_classes = y_pred\n",
    "Y_true = test_generator.classes \n",
    "\n",
    "true_classes = test_generator.classes\n",
    "class_labels = list(test_generator.class_indices.keys())   \n",
    "print(class_labels)\n",
    "\n",
    "target_names = ['Road', 'No Road']\n",
    "\n",
    "print(confusion_matrix(test_generator.classes, y_pred))\n",
    "report = classification_report(test_generator.classes, y_pred,target_names=target_names, digits=4)\n",
    "print(report)"
   ]
  },
  {
   "cell_type": "code",
   "execution_count": 16,
   "metadata": {},
   "outputs": [
    {
     "data": {
      "image/png": "[encoded data removed]",
      "text/plain": [
       "<Figure size 468x324 with 2 Axes>"
      ]
     },
     "metadata": {
      "needs_background": "light"
     },
     "output_type": "display_data"
    }
   ],
   "source": [
    "confusion_mtx= confusion_matrix(Y_pred_classes, Y_true)\n",
    "plt.figure(figsize = (6.5,4.5))\n",
    "plot_confusion_matrix(confusion_mtx, classes = ['Road', 'No Road'], cmap='Blues')"
   ]
  },
  {
   "cell_type": "code",
   "execution_count": 17,
   "metadata": {},
   "outputs": [
    {
     "data": {
      "text/plain": [
       "0.9638629886265151"
      ]
     },
     "execution_count": 17,
     "metadata": {},
     "output_type": "execute_result"
    }
   ],
   "source": [
    "from sklearn.metrics import roc_auc_score\n",
    "roc_auc_score = roc_auc_score(test_generator.classes, predictions)\n",
    "roc_auc_score"
   ]
  },
  {
   "cell_type": "markdown",
   "metadata": {},
   "source": [
    "## 2"
   ]
  },
  {
   "cell_type": "code",
   "execution_count": 18,
   "metadata": {},
   "outputs": [
    {
     "name": "stdout",
     "output_type": "stream",
     "text": [
      "Test score:  0.23604880223161193\n",
      "Test accuracy:  0.9109212950990286\n"
     ]
    }
   ],
   "source": [
    "model = load_model('Models1/VGG5-2.h5')\n",
    "test_steps_per_epoch = np.math.ceil(test_generator.samples / test_generator.batch_size)\n",
    "test_loss, test_acc = model.evaluate_generator(test_generator, test_steps_per_epoch)\n",
    "print('Test score: ', test_loss)    #Loss on test\n",
    "print('Test accuracy: ', test_acc) "
   ]
  },
  {
   "cell_type": "code",
   "execution_count": 19,
   "metadata": {},
   "outputs": [
    {
     "name": "stdout",
     "output_type": "stream",
     "text": [
      "['1-caminos', '2-noexiste']\n",
      "[[4518  244]\n",
      " [ 340 1454]]\n",
      "              precision    recall  f1-score   support\n",
      "\n",
      "        Road     0.9300    0.9488    0.9393      4762\n",
      "     No Road     0.8563    0.8105    0.8328      1794\n",
      "\n",
      "    accuracy                         0.9109      6556\n",
      "   macro avg     0.8932    0.8796    0.8860      6556\n",
      "weighted avg     0.9098    0.9109    0.9101      6556\n",
      "\n"
     ]
    }
   ],
   "source": [
    "from sklearn.metrics import f1_score, precision_score, recall_score, confusion_matrix, classification_report\n",
    "model.evaluate_generator(generator=test_generator, steps=test_steps_per_epoch)\n",
    "test_generator.reset()\n",
    "\n",
    "predictions = model.predict_generator(test_generator, steps=test_steps_per_epoch, verbose=0,use_multiprocessing=False,workers = 0)   #pickle_safe = True, workers = 1 \n",
    "y_pred = np.rint(predictions)\n",
    "Y_pred = predictions    \n",
    "\n",
    "Y_pred_classes = y_pred\n",
    "Y_true = test_generator.classes \n",
    "\n",
    "true_classes = test_generator.classes\n",
    "class_labels = list(test_generator.class_indices.keys())   \n",
    "print(class_labels)\n",
    "\n",
    "target_names = ['Road', 'No Road']\n",
    "\n",
    "print(confusion_matrix(test_generator.classes, y_pred))\n",
    "report = classification_report(test_generator.classes, y_pred,target_names=target_names, digits=4)\n",
    "print(report)"
   ]
  },
  {
   "cell_type": "code",
   "execution_count": 20,
   "metadata": {},
   "outputs": [
    {
     "data": {
      "image/png": "[encoded data removed]",
      "text/plain": [
       "<Figure size 468x324 with 2 Axes>"
      ]
     },
     "metadata": {
      "needs_background": "light"
     },
     "output_type": "display_data"
    }
   ],
   "source": [
    "confusion_mtx= confusion_matrix(Y_pred_classes, Y_true)\n",
    "plt.figure(figsize = (6.5,4.5))\n",
    "plot_confusion_matrix(confusion_mtx, classes = ['Road', 'No Road'], cmap='Blues')"
   ]
  },
  {
   "cell_type": "code",
   "execution_count": 21,
   "metadata": {},
   "outputs": [
    {
     "data": {
      "text/plain": [
       "0.9663379892937258"
      ]
     },
     "execution_count": 21,
     "metadata": {},
     "output_type": "execute_result"
    }
   ],
   "source": [
    "from sklearn.metrics import roc_auc_score\n",
    "roc_auc_score = roc_auc_score(test_generator.classes, predictions)\n",
    "roc_auc_score"
   ]
  },
  {
   "cell_type": "markdown",
   "metadata": {},
   "source": [
    "## 3"
   ]
  },
  {
   "cell_type": "code",
   "execution_count": 22,
   "metadata": {},
   "outputs": [
    {
     "name": "stdout",
     "output_type": "stream",
     "text": [
      "Test score:  0.22638215842512818\n",
      "Test accuracy:  0.911073824853305\n"
     ]
    }
   ],
   "source": [
    "model = load_model('Models1/VGG5-3.h5')\n",
    "test_steps_per_epoch = np.math.ceil(test_generator.samples / test_generator.batch_size)\n",
    "test_loss, test_acc = model.evaluate_generator(test_generator, test_steps_per_epoch)\n",
    "print('Test score: ', test_loss)    #Loss on test\n",
    "print('Test accuracy: ', test_acc) "
   ]
  },
  {
   "cell_type": "code",
   "execution_count": 23,
   "metadata": {},
   "outputs": [
    {
     "name": "stdout",
     "output_type": "stream",
     "text": [
      "['1-caminos', '2-noexiste']\n",
      "[[4518  244]\n",
      " [ 339 1455]]\n",
      "              precision    recall  f1-score   support\n",
      "\n",
      "        Road     0.9302    0.9488    0.9394      4762\n",
      "     No Road     0.8564    0.8110    0.8331      1794\n",
      "\n",
      "    accuracy                         0.9111      6556\n",
      "   macro avg     0.8933    0.8799    0.8862      6556\n",
      "weighted avg     0.9100    0.9111    0.9103      6556\n",
      "\n"
     ]
    }
   ],
   "source": [
    "from sklearn.metrics import f1_score, precision_score, recall_score, confusion_matrix, classification_report\n",
    "model.evaluate_generator(generator=test_generator, steps=test_steps_per_epoch)\n",
    "test_generator.reset()\n",
    "\n",
    "predictions = model.predict_generator(test_generator, steps=test_steps_per_epoch, verbose=0,use_multiprocessing=False,workers = 0)   #pickle_safe = True, workers = 1 \n",
    "y_pred = np.rint(predictions)\n",
    "Y_pred = predictions    \n",
    "\n",
    "Y_pred_classes = y_pred\n",
    "Y_true = test_generator.classes \n",
    "\n",
    "true_classes = test_generator.classes\n",
    "class_labels = list(test_generator.class_indices.keys())   \n",
    "print(class_labels)\n",
    "\n",
    "target_names = ['Road', 'No Road']\n",
    "\n",
    "print(confusion_matrix(test_generator.classes, y_pred))\n",
    "report = classification_report(test_generator.classes, y_pred,target_names=target_names, digits=4)\n",
    "print(report)"
   ]
  },
  {
   "cell_type": "code",
   "execution_count": 24,
   "metadata": {},
   "outputs": [
    {
     "data": {
      "image/png": "[encoded data removed]",
      "text/plain": [
       "<Figure size 468x324 with 2 Axes>"
      ]
     },
     "metadata": {
      "needs_background": "light"
     },
     "output_type": "display_data"
    }
   ],
   "source": [
    "confusion_mtx= confusion_matrix(Y_pred_classes, Y_true)\n",
    "plt.figure(figsize = (6.5,4.5))\n",
    "plot_confusion_matrix(confusion_mtx, classes = ['Road', 'No Road'], cmap='Blues')"
   ]
  },
  {
   "cell_type": "code",
   "execution_count": 25,
   "metadata": {},
   "outputs": [
    {
     "data": {
      "text/plain": [
       "0.9663790169012673"
      ]
     },
     "execution_count": 25,
     "metadata": {},
     "output_type": "execute_result"
    }
   ],
   "source": [
    "from sklearn.metrics import roc_auc_score\n",
    "roc_auc_score = roc_auc_score(test_generator.classes, predictions)\n",
    "roc_auc_score"
   ]
  },
  {
   "cell_type": "markdown",
   "metadata": {},
   "source": [
    "# VGG-from-scratch\n",
    "## 1"
   ]
  },
  {
   "cell_type": "code",
   "execution_count": 27,
   "metadata": {},
   "outputs": [
    {
     "name": "stdout",
     "output_type": "stream",
     "text": [
      "Test score:  0.22718421822726717\n",
      "Test accuracy:  0.9025320301129005\n"
     ]
    }
   ],
   "source": [
    "model = load_model('Models1/vgg16_noweights-1.h5')\n",
    "test_steps_per_epoch = np.math.ceil(test_generator.samples / test_generator.batch_size)\n",
    "test_loss, test_acc = model.evaluate_generator(test_generator, test_steps_per_epoch)\n",
    "print('Test score: ', test_loss)    #Loss on test\n",
    "print('Test accuracy: ', test_acc) "
   ]
  },
  {
   "cell_type": "code",
   "execution_count": 28,
   "metadata": {},
   "outputs": [
    {
     "name": "stdout",
     "output_type": "stream",
     "text": [
      "['1-caminos', '2-noexiste']\n",
      "[[4542  220]\n",
      " [ 419 1375]]\n",
      "              precision    recall  f1-score   support\n",
      "\n",
      "        Road     0.9155    0.9538    0.9343      4762\n",
      "     No Road     0.8621    0.7664    0.8114      1794\n",
      "\n",
      "    accuracy                         0.9025      6556\n",
      "   macro avg     0.8888    0.8601    0.8729      6556\n",
      "weighted avg     0.9009    0.9025    0.9007      6556\n",
      "\n"
     ]
    }
   ],
   "source": [
    "from sklearn.metrics import f1_score, precision_score, recall_score, confusion_matrix, classification_report\n",
    "model.evaluate_generator(generator=test_generator, steps=test_steps_per_epoch)\n",
    "test_generator.reset()\n",
    "\n",
    "predictions = model.predict_generator(test_generator, steps=test_steps_per_epoch, verbose=0,use_multiprocessing=False,workers = 0)   #pickle_safe = True, workers = 1 \n",
    "y_pred = np.rint(predictions)\n",
    "Y_pred = predictions    \n",
    "\n",
    "Y_pred_classes = y_pred\n",
    "Y_true = test_generator.classes \n",
    "\n",
    "true_classes = test_generator.classes\n",
    "class_labels = list(test_generator.class_indices.keys())   \n",
    "print(class_labels)\n",
    "\n",
    "target_names = ['Road', 'No Road']\n",
    "\n",
    "print(confusion_matrix(test_generator.classes, y_pred))\n",
    "report = classification_report(test_generator.classes, y_pred,target_names=target_names, digits=4)\n",
    "print(report)"
   ]
  },
  {
   "cell_type": "code",
   "execution_count": 29,
   "metadata": {},
   "outputs": [
    {
     "data": {
      "image/png": "[encoded data removed]",
      "text/plain": [
       "<Figure size 468x324 with 2 Axes>"
      ]
     },
     "metadata": {
      "needs_background": "light"
     },
     "output_type": "display_data"
    }
   ],
   "source": [
    "confusion_mtx= confusion_matrix(Y_pred_classes, Y_true)\n",
    "plt.figure(figsize = (6.5,4.5))\n",
    "plot_confusion_matrix(confusion_mtx, classes = ['Road', 'No Road'], cmap='Blues')"
   ]
  },
  {
   "cell_type": "code",
   "execution_count": 30,
   "metadata": {},
   "outputs": [
    {
     "data": {
      "text/plain": [
       "0.9619576337570238"
      ]
     },
     "execution_count": 30,
     "metadata": {},
     "output_type": "execute_result"
    }
   ],
   "source": [
    "from sklearn.metrics import roc_auc_score\n",
    "roc_auc_score = roc_auc_score(test_generator.classes, predictions)\n",
    "roc_auc_score"
   ]
  },
  {
   "cell_type": "markdown",
   "metadata": {},
   "source": [
    "## 2"
   ]
  },
  {
   "cell_type": "code",
   "execution_count": 31,
   "metadata": {},
   "outputs": [
    {
     "name": "stdout",
     "output_type": "stream",
     "text": [
      "Test score:  0.2315617909084192\n",
      "Test accuracy:  0.903447222598738\n"
     ]
    }
   ],
   "source": [
    "model = load_model('Models1/vgg16_noweights-2.h5')\n",
    "test_steps_per_epoch = np.math.ceil(test_generator.samples / test_generator.batch_size)\n",
    "test_loss, test_acc = model.evaluate_generator(test_generator, test_steps_per_epoch)\n",
    "print('Test score: ', test_loss)    #Loss on test\n",
    "print('Test accuracy: ', test_acc) "
   ]
  },
  {
   "cell_type": "code",
   "execution_count": 32,
   "metadata": {},
   "outputs": [
    {
     "name": "stdout",
     "output_type": "stream",
     "text": [
      "['1-caminos', '2-noexiste']\n",
      "[[4593  169]\n",
      " [ 464 1330]]\n",
      "              precision    recall  f1-score   support\n",
      "\n",
      "        Road     0.9082    0.9645    0.9355      4762\n",
      "     No Road     0.8873    0.7414    0.8078      1794\n",
      "\n",
      "    accuracy                         0.9034      6556\n",
      "   macro avg     0.8978    0.8529    0.8717      6556\n",
      "weighted avg     0.9025    0.9034    0.9006      6556\n",
      "\n"
     ]
    }
   ],
   "source": [
    "from sklearn.metrics import f1_score, precision_score, recall_score, confusion_matrix, classification_report\n",
    "model.evaluate_generator(generator=test_generator, steps=test_steps_per_epoch)\n",
    "test_generator.reset()\n",
    "\n",
    "predictions = model.predict_generator(test_generator, steps=test_steps_per_epoch, verbose=0,use_multiprocessing=False,workers = 0)   #pickle_safe = True, workers = 1 \n",
    "y_pred = np.rint(predictions)\n",
    "Y_pred = predictions    \n",
    "\n",
    "Y_pred_classes = y_pred\n",
    "Y_true = test_generator.classes \n",
    "\n",
    "true_classes = test_generator.classes\n",
    "class_labels = list(test_generator.class_indices.keys())   \n",
    "print(class_labels)\n",
    "\n",
    "target_names = ['Road', 'No Road']\n",
    "\n",
    "print(confusion_matrix(test_generator.classes, y_pred))\n",
    "report = classification_report(test_generator.classes, y_pred,target_names=target_names, digits=4)\n",
    "print(report)"
   ]
  },
  {
   "cell_type": "code",
   "execution_count": 33,
   "metadata": {},
   "outputs": [
    {
     "data": {
      "image/png": "[encoded data removed]",
      "text/plain": [
       "<Figure size 468x324 with 2 Axes>"
      ]
     },
     "metadata": {
      "needs_background": "light"
     },
     "output_type": "display_data"
    }
   ],
   "source": [
    "confusion_mtx= confusion_matrix(Y_pred_classes, Y_true)\n",
    "plt.figure(figsize = (6.5,4.5))\n",
    "plot_confusion_matrix(confusion_mtx, classes = ['Road', 'No Road'], cmap='Blues')"
   ]
  },
  {
   "cell_type": "code",
   "execution_count": 34,
   "metadata": {},
   "outputs": [
    {
     "data": {
      "text/plain": [
       "0.963173771641624"
      ]
     },
     "execution_count": 34,
     "metadata": {},
     "output_type": "execute_result"
    }
   ],
   "source": [
    "from sklearn.metrics import roc_auc_score\n",
    "roc_auc_score = roc_auc_score(test_generator.classes, predictions)\n",
    "roc_auc_score"
   ]
  },
  {
   "cell_type": "markdown",
   "metadata": {},
   "source": [
    "## 3"
   ]
  },
  {
   "cell_type": "code",
   "execution_count": 3,
   "metadata": {},
   "outputs": [
    {
     "name": "stdout",
     "output_type": "stream",
     "text": [
      "WARNING:tensorflow:From /home/ign1/anaconda3/envs/pruebas/lib/python3.7/site-packages/keras/backend/tensorflow_backend.py:517: The name tf.placeholder is deprecated. Please use tf.compat.v1.placeholder instead.\n",
      "\n",
      "WARNING:tensorflow:From /home/ign1/anaconda3/envs/pruebas/lib/python3.7/site-packages/keras/backend/tensorflow_backend.py:4138: The name tf.random_uniform is deprecated. Please use tf.random.uniform instead.\n",
      "\n",
      "WARNING:tensorflow:From /home/ign1/anaconda3/envs/pruebas/lib/python3.7/site-packages/keras/backend/tensorflow_backend.py:3976: The name tf.nn.max_pool is deprecated. Please use tf.nn.max_pool2d instead.\n",
      "\n",
      "WARNING:tensorflow:From /home/ign1/anaconda3/envs/pruebas/lib/python3.7/site-packages/keras/backend/tensorflow_backend.py:174: The name tf.get_default_session is deprecated. Please use tf.compat.v1.get_default_session instead.\n",
      "\n",
      "WARNING:tensorflow:From /home/ign1/anaconda3/envs/pruebas/lib/python3.7/site-packages/keras/backend/tensorflow_backend.py:181: The name tf.ConfigProto is deprecated. Please use tf.compat.v1.ConfigProto instead.\n",
      "\n",
      "WARNING:tensorflow:From /home/ign1/anaconda3/envs/pruebas/lib/python3.7/site-packages/keras/backend/tensorflow_backend.py:186: The name tf.Session is deprecated. Please use tf.compat.v1.Session instead.\n",
      "\n",
      "WARNING:tensorflow:From /home/ign1/anaconda3/envs/pruebas/lib/python3.7/site-packages/keras/optimizers.py:790: The name tf.train.Optimizer is deprecated. Please use tf.compat.v1.train.Optimizer instead.\n",
      "\n",
      "WARNING:tensorflow:From /home/ign1/anaconda3/envs/pruebas/lib/python3.7/site-packages/tensorflow/python/ops/nn_impl.py:180: add_dispatch_support.<locals>.wrapper (from tensorflow.python.ops.array_ops) is deprecated and will be removed in a future version.\n",
      "Instructions for updating:\n",
      "Use tf.where in 2.0, which has the same broadcast rule as np.where\n",
      "Test score:  11.579871301155698\n",
      "Test accuracy:  0.27364246492672434\n"
     ]
    }
   ],
   "source": [
    "model = load_model('Models1/vgg16_noweights-3.h5')\n",
    "test_steps_per_epoch = np.math.ceil(test_generator.samples / test_generator.batch_size)\n",
    "test_loss, test_acc = model.evaluate_generator(test_generator, test_steps_per_epoch)\n",
    "print('Test score: ', test_loss)    #Loss on test\n",
    "print('Test accuracy: ', test_acc) "
   ]
  },
  {
   "cell_type": "code",
   "execution_count": 4,
   "metadata": {},
   "outputs": [
    {
     "name": "stdout",
     "output_type": "stream",
     "text": [
      "['1-caminos', '2-noexiste']\n",
      "[[   0 4762]\n",
      " [   0 1794]]\n",
      "              precision    recall  f1-score   support\n",
      "\n",
      "        Road     0.0000    0.0000    0.0000      4762\n",
      "     No Road     0.2736    1.0000    0.4297      1794\n",
      "\n",
      "    accuracy                         0.2736      6556\n",
      "   macro avg     0.1368    0.5000    0.2149      6556\n",
      "weighted avg     0.0749    0.2736    0.1176      6556\n",
      "\n"
     ]
    }
   ],
   "source": [
    "from sklearn.metrics import f1_score, precision_score, recall_score, confusion_matrix, classification_report\n",
    "model.evaluate_generator(generator=test_generator, steps=test_steps_per_epoch)\n",
    "test_generator.reset()\n",
    "\n",
    "predictions = model.predict_generator(test_generator, steps=test_steps_per_epoch, verbose=0,use_multiprocessing=False,workers = 0)   #pickle_safe = True, workers = 1 \n",
    "y_pred = np.rint(predictions)\n",
    "Y_pred = predictions    \n",
    "\n",
    "Y_pred_classes = y_pred\n",
    "Y_true = test_generator.classes \n",
    "\n",
    "true_classes = test_generator.classes\n",
    "class_labels = list(test_generator.class_indices.keys())   \n",
    "print(class_labels)\n",
    "\n",
    "target_names = ['Road', 'No Road']\n",
    "\n",
    "print(confusion_matrix(test_generator.classes, y_pred))\n",
    "report = classification_report(test_generator.classes, y_pred,target_names=target_names, digits=4)\n",
    "print(report)"
   ]
  },
  {
   "cell_type": "code",
   "execution_count": 5,
   "metadata": {},
   "outputs": [
    {
     "data": {
      "image/png": "[encoded data removed]",
      "text/plain": [
       "<Figure size 468x324 with 2 Axes>"
      ]
     },
     "metadata": {
      "needs_background": "light"
     },
     "output_type": "display_data"
    }
   ],
   "source": [
    "confusion_mtx= confusion_matrix(Y_pred_classes, Y_true)\n",
    "plt.figure(figsize = (6.5,4.5))\n",
    "plot_confusion_matrix(confusion_mtx, classes = ['Road', 'No Road'], cmap='Blues')"
   ]
  },
  {
   "cell_type": "code",
   "execution_count": 6,
   "metadata": {},
   "outputs": [
    {
     "data": {
      "text/plain": [
       "0.5"
      ]
     },
     "execution_count": 6,
     "metadata": {},
     "output_type": "execute_result"
    }
   ],
   "source": [
    "from sklearn.metrics import roc_auc_score\n",
    "roc_auc_score = roc_auc_score(test_generator.classes, predictions)\n",
    "roc_auc_score"
   ]
  },
  {
   "cell_type": "code",
   "execution_count": null,
   "metadata": {},
   "outputs": [],
   "source": []
  }
 ],
 "metadata": {
  "kernelspec": {
   "display_name": "Python 3",
   "language": "python",
   "name": "python3"
  },
  "language_info": {
   "codemirror_mode": {
    "name": "ipython",
    "version": 3
   },
   "file_extension": ".py",
   "mimetype": "text/x-python",
   "name": "python",
   "nbconvert_exporter": "python",
   "pygments_lexer": "ipython3",
   "version": "3.8.5"
  }
 },
 "nbformat": 4,
 "nbformat_minor": 2
}
