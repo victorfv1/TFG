{
 "cells": [
  {
   "cell_type": "code",
   "execution_count": null,
   "metadata": {},
   "outputs": [],
   "source": [
    "import os, shutil\n",
    "import numpy as np\n",
    "import tensorflow as tf\n",
    "config = tf.ConfigProto()\n",
    "config.gpu_options.allow_growth = True\n",
    "sess = tf.Session(config=config)\n",
    "base_dir = 'tiles'\n",
    "\n",
    "train_dir = os.path.join(base_dir, 'train')\n",
    "validation_dir = os.path.join(base_dir, 'validation')"
   ]
  },
  {
   "cell_type": "code",
   "execution_count": 2,
   "metadata": {},
   "outputs": [
    {
     "name": "stderr",
     "output_type": "stream",
     "text": [
      "Using TensorFlow backend.\n"
     ]
    },
    {
     "name": "stdout",
     "output_type": "stream",
     "text": [
      "WARNING:tensorflow:From /home/miguelmmanso/anaconda3/envs/pruebas/lib/python3.6/site-packages/keras/backend/tensorflow_backend.py:74: The name tf.get_default_graph is deprecated. Please use tf.compat.v1.get_default_graph instead.\n",
      "\n",
      "WARNING:tensorflow:From /home/miguelmmanso/anaconda3/envs/pruebas/lib/python3.6/site-packages/keras/backend/tensorflow_backend.py:517: The name tf.placeholder is deprecated. Please use tf.compat.v1.placeholder instead.\n",
      "\n",
      "WARNING:tensorflow:From /home/miguelmmanso/anaconda3/envs/pruebas/lib/python3.6/site-packages/keras/backend/tensorflow_backend.py:4138: The name tf.random_uniform is deprecated. Please use tf.random.uniform instead.\n",
      "\n",
      "WARNING:tensorflow:From /home/miguelmmanso/anaconda3/envs/pruebas/lib/python3.6/site-packages/keras/backend/tensorflow_backend.py:3976: The name tf.nn.max_pool is deprecated. Please use tf.nn.max_pool2d instead.\n",
      "\n",
      "WARNING:tensorflow:From /home/miguelmmanso/anaconda3/envs/pruebas/lib/python3.6/site-packages/keras/backend/tensorflow_backend.py:174: The name tf.get_default_session is deprecated. Please use tf.compat.v1.get_default_session instead.\n",
      "\n",
      "WARNING:tensorflow:From /home/miguelmmanso/anaconda3/envs/pruebas/lib/python3.6/site-packages/keras/backend/tensorflow_backend.py:181: The name tf.ConfigProto is deprecated. Please use tf.compat.v1.ConfigProto instead.\n",
      "\n",
      "WARNING:tensorflow:From /home/miguelmmanso/anaconda3/envs/pruebas/lib/python3.6/site-packages/keras/backend/tensorflow_backend.py:3445: calling dropout (from tensorflow.python.ops.nn_ops) with keep_prob is deprecated and will be removed in a future version.\n",
      "Instructions for updating:\n",
      "Please use `rate` instead of `keep_prob`. Rate should be set to `rate = 1 - keep_prob`.\n",
      "_________________________________________________________________\n",
      "Layer (type)                 Output Shape              Param #   \n",
      "=================================================================\n",
      "vgg16 (Model)                (None, 8, 8, 512)         14714688  \n",
      "_________________________________________________________________\n",
      "global_average_pooling2d_1 ( (None, 512)               0         \n",
      "_________________________________________________________________\n",
      "dense_1 (Dense)              (None, 3072)              1575936   \n",
      "_________________________________________________________________\n",
      "dropout_1 (Dropout)          (None, 3072)              0         \n",
      "_________________________________________________________________\n",
      "dense_2 (Dense)              (None, 3072)              9440256   \n",
      "_________________________________________________________________\n",
      "dropout_2 (Dropout)          (None, 3072)              0         \n",
      "_________________________________________________________________\n",
      "dense_3 (Dense)              (None, 1)                 3073      \n",
      "=================================================================\n",
      "Total params: 25,733,953\n",
      "Trainable params: 25,733,953\n",
      "Non-trainable params: 0\n",
      "_________________________________________________________________\n"
     ]
    },
    {
     "name": "stderr",
     "output_type": "stream",
     "text": [
      "/home/miguelmmanso/anaconda3/envs/pruebas/lib/python3.6/site-packages/ipykernel_launcher.py:14: UserWarning: Update your `Dense` call to the Keras 2 API: `Dense(3072, activation=\"relu\", kernel_initializer=\"he_normal\")`\n",
      "  \n"
     ]
    }
   ],
   "source": [
    "import keras\n",
    "from keras import layers\n",
    "from keras import models\n",
    "from keras.applications import VGG16\n",
    "from keras.preprocessing import image\n",
    "from keras.preprocessing.image import ImageDataGenerator\n",
    "\n",
    "img_width, img_height = 256, 256\n",
    "conv_base= VGG16(weights='imagenet', include_top=False, input_shape=(img_width,img_height,3))\n",
    "\n",
    "model = models.Sequential()\n",
    "model.add(conv_base)\n",
    "model.add(layers.GlobalAveragePooling2D())\n",
    "model.add(layers.Dense(3072, activation='relu', init = 'he_normal')) #he_uniform\n",
    "model.add(layers.Dropout(0.5))\n",
    "model.add(layers.Dense(3072, activation='relu'))\n",
    "model.add(layers.Dropout(0.5))\n",
    "model.add(layers.Dense(1, activation='sigmoid'))\n",
    "\n",
    "model.summary()"
   ]
  },
  {
   "cell_type": "code",
   "execution_count": 3,
   "metadata": {},
   "outputs": [
    {
     "name": "stdout",
     "output_type": "stream",
     "text": [
      "WARNING:tensorflow:From /home/miguelmmanso/anaconda3/envs/pruebas/lib/python3.6/site-packages/keras/optimizers.py:790: The name tf.train.Optimizer is deprecated. Please use tf.compat.v1.train.Optimizer instead.\n",
      "\n",
      "WARNING:tensorflow:From /home/miguelmmanso/anaconda3/envs/pruebas/lib/python3.6/site-packages/tensorflow/python/ops/nn_impl.py:180: add_dispatch_support.<locals>.wrapper (from tensorflow.python.ops.array_ops) is deprecated and will be removed in a future version.\n",
      "Instructions for updating:\n",
      "Use tf.where in 2.0, which has the same broadcast rule as np.where\n"
     ]
    }
   ],
   "source": [
    "from keras import optimizers\n",
    "\n",
    "model.compile(loss='binary_crossentropy', optimizer=optimizers.Adam(lr=1e-5), metrics=['acc'])"
   ]
  },
  {
   "cell_type": "code",
   "execution_count": 4,
   "metadata": {},
   "outputs": [
    {
     "name": "stdout",
     "output_type": "stream",
     "text": [
      "Found 484048 images belonging to 2 classes.\n",
      "Found 26893 images belonging to 2 classes.\n"
     ]
    }
   ],
   "source": [
    "from keras.preprocessing.image import ImageDataGenerator\n",
    "datagen = ImageDataGenerator(rescale=1. /255)\n",
    "train_datagen = ImageDataGenerator(rescale=1. / 255, rotation_range=25, \n",
    "                                   width_shift_range=0.1, height_shift_range=0.1, \n",
    "                                   zoom_range=0.1, horizontal_flip=True, vertical_flip=True, \n",
    "                                   fill_mode='nearest')\n",
    "\n",
    "#rescale=1. / 255, rotation_range=40, width_shift_range=0.2, height_shift_range=0.2, shear_range=0.2, zoom_range=0.2, horizontal_flip=True, fill_mode='nearest')\n",
    "train_generator = train_datagen.flow_from_directory(train_dir, target_size=(256, 256),\n",
    "                                                    batch_size=50, class_mode='binary')\n",
    "validation_datagen = ImageDataGenerator(rescale=1. / 255)\n",
    "validation_generator = validation_datagen.flow_from_directory(validation_dir, target_size=(256, 256), \n",
    "                                                              batch_size=50,class_mode='binary')"
   ]
  },
  {
   "cell_type": "code",
   "execution_count": 5,
   "metadata": {},
   "outputs": [
    {
     "name": "stderr",
     "output_type": "stream",
     "text": [
      "/home/miguelmmanso/anaconda3/envs/pruebas/lib/python3.6/site-packages/sklearn/utils/validation.py:70: FutureWarning: Pass classes=[0 1], y=[0 0 0 ... 1 1 1] as keyword args. From version 0.25 passing these as positional arguments will result in an error\n",
      "  FutureWarning)\n"
     ]
    },
    {
     "data": {
      "text/plain": [
       "array([1.03952376, 0.96337163])"
      ]
     },
     "execution_count": 5,
     "metadata": {},
     "output_type": "execute_result"
    }
   ],
   "source": [
    "train_steps_per_epoch = np.math.ceil(train_generator.samples / train_generator.batch_size)\n",
    "validation_steps_per_epoch = np.math.ceil(validation_generator.samples / validation_generator.batch_size)\n",
    "\n",
    "#teniendo en cuenta el desbalanceo de clases\n",
    "from sklearn.utils import class_weight\n",
    "class_weights = class_weight.compute_class_weight('balanced',np.unique(train_generator.classes), train_generator.classes)\n",
    "class_weights"
   ]
  },
  {
   "cell_type": "code",
   "execution_count": 6,
   "metadata": {
    "scrolled": true
   },
   "outputs": [
    {
     "name": "stdout",
     "output_type": "stream",
     "text": [
      "Epoch 1/40\n",
      "9681/9681 [==============================] - 5051s 522ms/step - loss: 0.3981 - acc: 0.8082 - val_loss: 0.3451 - val_acc: 0.8320\n",
      "Epoch 2/40\n",
      "9681/9681 [==============================] - 5030s 520ms/step - loss: 0.3513 - acc: 0.8269 - val_loss: 0.3392 - val_acc: 0.8350\n",
      "Epoch 3/40\n",
      "9681/9681 [==============================] - 5025s 519ms/step - loss: 0.3385 - acc: 0.8313 - val_loss: 0.3309 - val_acc: 0.8362\n",
      "Epoch 4/40\n",
      "9681/9681 [==============================] - 4985s 515ms/step - loss: 0.3306 - acc: 0.8348 - val_loss: 0.3377 - val_acc: 0.8369\n",
      "Epoch 5/40\n",
      "9681/9681 [==============================] - 4963s 513ms/step - loss: 0.3247 - acc: 0.8368 - val_loss: 0.3153 - val_acc: 0.8393\n",
      "Epoch 6/40\n",
      "9681/9681 [==============================] - 4966s 513ms/step - loss: 0.3202 - acc: 0.8387 - val_loss: 0.3206 - val_acc: 0.8391\n",
      "Epoch 7/40\n",
      "9681/9681 [==============================] - 4965s 513ms/step - loss: 0.3160 - acc: 0.8406 - val_loss: 0.3213 - val_acc: 0.8352\n",
      "Epoch 8/40\n",
      "9681/9681 [==============================] - 4980s 514ms/step - loss: 0.3128 - acc: 0.8417 - val_loss: 0.3261 - val_acc: 0.8393\n",
      "Epoch 9/40\n",
      "9681/9681 [==============================] - 4980s 514ms/step - loss: 0.3103 - acc: 0.8430 - val_loss: 0.3267 - val_acc: 0.8387\n",
      "Epoch 10/40\n",
      "9681/9681 [==============================] - 4983s 515ms/step - loss: 0.3076 - acc: 0.8441 - val_loss: 0.3179 - val_acc: 0.8448\n",
      "Epoch 11/40\n",
      "9681/9681 [==============================] - 4981s 515ms/step - loss: 0.3054 - acc: 0.8446 - val_loss: 0.3186 - val_acc: 0.8408\n",
      "Epoch 12/40\n",
      "9681/9681 [==============================] - 5022s 519ms/step - loss: 0.3031 - acc: 0.8452 - val_loss: 0.3198 - val_acc: 0.8395\n",
      "Epoch 13/40\n",
      "9681/9681 [==============================] - 4982s 515ms/step - loss: 0.3009 - acc: 0.8467 - val_loss: 0.3113 - val_acc: 0.8427\n",
      "Epoch 14/40\n",
      "9681/9681 [==============================] - 4982s 515ms/step - loss: 0.2988 - acc: 0.8476 - val_loss: 0.3137 - val_acc: 0.8418\n",
      "Epoch 15/40\n",
      "9681/9681 [==============================] - 4978s 514ms/step - loss: 0.2966 - acc: 0.8479 - val_loss: 0.3115 - val_acc: 0.8465\n",
      "Epoch 16/40\n",
      "9681/9681 [==============================] - 4977s 514ms/step - loss: 0.2952 - acc: 0.8483 - val_loss: 0.3193 - val_acc: 0.8406\n",
      "Epoch 17/40\n",
      "9681/9681 [==============================] - 4970s 513ms/step - loss: 0.2930 - acc: 0.8495 - val_loss: 0.3369 - val_acc: 0.8400\n",
      "Epoch 18/40\n",
      "9681/9681 [==============================] - 4977s 514ms/step - loss: 0.2909 - acc: 0.8509 - val_loss: 0.3235 - val_acc: 0.8392\n",
      "Epoch 19/40\n",
      "9681/9681 [==============================] - 4979s 514ms/step - loss: 0.2900 - acc: 0.8508 - val_loss: 0.3071 - val_acc: 0.8430\n",
      "Epoch 20/40\n",
      "9681/9681 [==============================] - 4978s 514ms/step - loss: 0.2882 - acc: 0.8516 - val_loss: 0.3113 - val_acc: 0.8405\n",
      "Epoch 21/40\n",
      "9681/9681 [==============================] - 4978s 514ms/step - loss: 0.2863 - acc: 0.8521 - val_loss: 0.3114 - val_acc: 0.8407\n",
      "Epoch 22/40\n",
      "9681/9681 [==============================] - 4974s 514ms/step - loss: 0.2847 - acc: 0.8529 - val_loss: 0.3183 - val_acc: 0.8439\n",
      "Epoch 23/40\n",
      "9681/9681 [==============================] - 4977s 514ms/step - loss: 0.2839 - acc: 0.8535 - val_loss: 0.3089 - val_acc: 0.8426\n",
      "Epoch 24/40\n",
      "9681/9681 [==============================] - 4975s 514ms/step - loss: 0.2816 - acc: 0.8544 - val_loss: 0.3052 - val_acc: 0.8468\n",
      "Epoch 25/40\n",
      "9681/9681 [==============================] - 4976s 514ms/step - loss: 0.2793 - acc: 0.8550 - val_loss: 0.3147 - val_acc: 0.8422\n",
      "Epoch 26/40\n",
      "9681/9681 [==============================] - 4976s 514ms/step - loss: 0.2780 - acc: 0.8550 - val_loss: 0.3107 - val_acc: 0.8443\n",
      "Epoch 27/40\n",
      "9681/9681 [==============================] - 4977s 514ms/step - loss: 0.2763 - acc: 0.8562 - val_loss: 0.3211 - val_acc: 0.8430\n",
      "Epoch 28/40\n",
      "9681/9681 [==============================] - 4979s 514ms/step - loss: 0.2748 - acc: 0.8573 - val_loss: 0.3184 - val_acc: 0.8450\n",
      "Epoch 29/40\n",
      "9681/9681 [==============================] - 5019s 518ms/step - loss: 0.2730 - acc: 0.8574 - val_loss: 0.3128 - val_acc: 0.8433\n",
      "Epoch 30/40\n",
      "9681/9681 [==============================] - 5001s 517ms/step - loss: 0.2719 - acc: 0.8577 - val_loss: 0.3099 - val_acc: 0.8425\n",
      "Epoch 31/40\n",
      "9681/9681 [==============================] - 4985s 515ms/step - loss: 0.2700 - acc: 0.8587 - val_loss: 0.3283 - val_acc: 0.8387\n",
      "Epoch 32/40\n",
      "9681/9681 [==============================] - 4980s 514ms/step - loss: 0.2686 - acc: 0.8599 - val_loss: 0.3170 - val_acc: 0.8372\n",
      "Epoch 33/40\n",
      "9681/9681 [==============================] - 4981s 515ms/step - loss: 0.2669 - acc: 0.8608 - val_loss: 0.3355 - val_acc: 0.8410\n",
      "Epoch 34/40\n",
      "9681/9681 [==============================] - 4972s 514ms/step - loss: 0.2658 - acc: 0.8611 - val_loss: 0.3195 - val_acc: 0.8409\n",
      "Epoch 35/40\n",
      "9681/9681 [==============================] - 4978s 514ms/step - loss: 0.2632 - acc: 0.8617 - val_loss: 0.3256 - val_acc: 0.8419\n",
      "Epoch 36/40\n",
      "9681/9681 [==============================] - 4976s 514ms/step - loss: 0.2622 - acc: 0.8623 - val_loss: 0.3339 - val_acc: 0.8382\n",
      "Epoch 37/40\n",
      "9681/9681 [==============================] - 4979s 514ms/step - loss: 0.2604 - acc: 0.8630 - val_loss: 0.3172 - val_acc: 0.8432\n",
      "Epoch 38/40\n",
      "9681/9681 [==============================] - 4976s 514ms/step - loss: 0.2586 - acc: 0.8640 - val_loss: 0.3301 - val_acc: 0.8421\n",
      "Epoch 39/40\n",
      "9681/9681 [==============================] - 4969s 513ms/step - loss: 0.2570 - acc: 0.8649 - val_loss: 0.3383 - val_acc: 0.8404\n",
      "Epoch 40/40\n",
      "9681/9681 [==============================] - 4978s 514ms/step - loss: 0.2554 - acc: 0.8660 - val_loss: 0.3199 - val_acc: 0.8420\n"
     ]
    }
   ],
   "source": [
    "history = model.fit_generator(train_generator, steps_per_epoch= train_steps_per_epoch, \n",
    "                              epochs=40, validation_data=validation_generator,\n",
    "                              validation_steps=validation_steps_per_epoch, class_weight=class_weights) #callbacks = [tensorboard]"
   ]
  },
  {
   "cell_type": "code",
   "execution_count": 9,
   "metadata": {
    "scrolled": false
   },
   "outputs": [
    {
     "data": {
      "image/png": "[encoded data removed]",
      "text/plain": [
       "<Figure size 1440x720 with 1 Axes>"
      ]
     },
     "metadata": {
      "needs_background": "light"
     },
     "output_type": "display_data"
    }
   ],
   "source": [
    "import matplotlib.pyplot as plt\n",
    "acc = history.history['acc']\n",
    "val_acc = history.history['val_acc']\n",
    "plt.figure(figsize=(20,10))\n",
    "loss = history.history['loss']\n",
    "val_loss = history.history['val_loss']\n",
    "epochs = range(1, len(acc) +1) \n",
    "plt.plot(epochs, acc, 'bo--', color='r', label='Training acc')\n",
    "plt.plot(epochs, val_acc, 'bo--', color='b', label='Validation acc')\n",
    "plt.legend()\n",
    "#plt.figure(figsize=(20,10))\n",
    "plt.plot(epochs, loss, color= 'r', label='Training loss')\n",
    "plt.plot(epochs, val_loss, color=\"b\", label='Validation loss')\n",
    "plt.legend()\n",
    "plt.show()\n",
    "plt.rcParams.update({'font.size':18})"
   ]
  },
  {
   "cell_type": "code",
   "execution_count": 8,
   "metadata": {},
   "outputs": [],
   "source": [
    "model.save(\"Models1/VGG5-2.h5\")"
   ]
  }
 ],
 "metadata": {
  "kernelspec": {
   "display_name": "Python 3",
   "language": "python",
   "name": "python3"
  },
  "language_info": {
   "codemirror_mode": {
    "name": "ipython",
    "version": 3
   },
   "file_extension": ".py",
   "mimetype": "text/x-python",
   "name": "python",
   "nbconvert_exporter": "python",
   "pygments_lexer": "ipython3",
   "version": "3.8.5"
  }
 },
 "nbformat": 4,
 "nbformat_minor": 2
}
